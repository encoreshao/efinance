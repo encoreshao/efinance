{
 "cells": [
  {
   "cell_type": "code",
   "execution_count": 1,
   "id": "efbe5247",
   "metadata": {},
   "outputs": [
    {
     "name": "stdout",
     "output_type": "stream",
     "text": [
      "Requirement already satisfied: efinance in /Users/encore/anaconda3/lib/python3.10/site-packages (0.5.0)\n",
      "Requirement already satisfied: jsonpath in /Users/encore/anaconda3/lib/python3.10/site-packages (from efinance) (0.82.2)\n",
      "Requirement already satisfied: requests in /Users/encore/anaconda3/lib/python3.10/site-packages (from efinance) (2.31.0)\n",
      "Requirement already satisfied: multitasking in /Users/encore/anaconda3/lib/python3.10/site-packages (from efinance) (0.0.11)\n",
      "Requirement already satisfied: tqdm in /Users/encore/anaconda3/lib/python3.10/site-packages (from efinance) (4.65.0)\n",
      "Requirement already satisfied: rich in /Users/encore/anaconda3/lib/python3.10/site-packages (from efinance) (13.0.1)\n",
      "Requirement already satisfied: retry in /Users/encore/anaconda3/lib/python3.10/site-packages (from efinance) (0.9.2)\n",
      "Requirement already satisfied: pandas in /Users/encore/anaconda3/lib/python3.10/site-packages (from efinance) (1.5.3)\n",
      "Requirement already satisfied: pytz>=2020.1 in /Users/encore/anaconda3/lib/python3.10/site-packages (from pandas->efinance) (2023.3)\n",
      "Requirement already satisfied: numpy>=1.21.0 in /Users/encore/anaconda3/lib/python3.10/site-packages (from pandas->efinance) (1.23.5)\n",
      "Requirement already satisfied: python-dateutil>=2.8.1 in /Users/encore/anaconda3/lib/python3.10/site-packages (from pandas->efinance) (2.8.2)\n",
      "Requirement already satisfied: charset-normalizer<4,>=2 in /Users/encore/anaconda3/lib/python3.10/site-packages (from requests->efinance) (3.1.0)\n",
      "Requirement already satisfied: idna<4,>=2.5 in /Users/encore/anaconda3/lib/python3.10/site-packages (from requests->efinance) (3.4)\n",
      "Requirement already satisfied: urllib3<3,>=1.21.1 in /Users/encore/anaconda3/lib/python3.10/site-packages (from requests->efinance) (2.0.3)\n",
      "Requirement already satisfied: certifi>=2017.4.17 in /Users/encore/anaconda3/lib/python3.10/site-packages (from requests->efinance) (2023.5.7)\n",
      "Requirement already satisfied: py<2.0.0,>=1.4.26 in /Users/encore/anaconda3/lib/python3.10/site-packages (from retry->efinance) (1.11.0)\n",
      "Requirement already satisfied: decorator>=3.4.2 in /Users/encore/anaconda3/lib/python3.10/site-packages (from retry->efinance) (5.1.1)\n",
      "Requirement already satisfied: commonmark<0.10.0,>=0.9.0 in /Users/encore/anaconda3/lib/python3.10/site-packages (from rich->efinance) (0.9.1)\n",
      "Requirement already satisfied: pygments<3.0.0,>=2.6.0 in /Users/encore/anaconda3/lib/python3.10/site-packages (from rich->efinance) (2.15.1)\n",
      "Requirement already satisfied: six>=1.5 in /Users/encore/anaconda3/lib/python3.10/site-packages (from python-dateutil>=2.8.1->pandas->efinance) (1.16.0)\n",
      "Requirement already satisfied: pandas in /Users/encore/anaconda3/lib/python3.10/site-packages (1.5.3)\n",
      "Requirement already satisfied: numpy>=1.21.0 in /Users/encore/anaconda3/lib/python3.10/site-packages (from pandas) (1.23.5)\n",
      "Requirement already satisfied: pytz>=2020.1 in /Users/encore/anaconda3/lib/python3.10/site-packages (from pandas) (2023.3)\n",
      "Requirement already satisfied: python-dateutil>=2.8.1 in /Users/encore/anaconda3/lib/python3.10/site-packages (from pandas) (2.8.2)\n",
      "Requirement already satisfied: six>=1.5 in /Users/encore/anaconda3/lib/python3.10/site-packages (from python-dateutil>=2.8.1->pandas) (1.16.0)\n",
      "Requirement already satisfied: matplotlib in /Users/encore/anaconda3/lib/python3.10/site-packages (3.7.0)\n",
      "Requirement already satisfied: fonttools>=4.22.0 in /Users/encore/anaconda3/lib/python3.10/site-packages (from matplotlib) (4.25.0)\n",
      "Requirement already satisfied: contourpy>=1.0.1 in /Users/encore/anaconda3/lib/python3.10/site-packages (from matplotlib) (1.0.5)\n",
      "Requirement already satisfied: packaging>=20.0 in /Users/encore/anaconda3/lib/python3.10/site-packages (from matplotlib) (23.1)\n",
      "Requirement already satisfied: cycler>=0.10 in /Users/encore/anaconda3/lib/python3.10/site-packages (from matplotlib) (0.11.0)\n",
      "Requirement already satisfied: pyparsing>=2.3.1 in /Users/encore/anaconda3/lib/python3.10/site-packages (from matplotlib) (3.0.9)\n",
      "Requirement already satisfied: numpy>=1.20 in /Users/encore/anaconda3/lib/python3.10/site-packages (from matplotlib) (1.23.5)\n",
      "Requirement already satisfied: pillow>=6.2.0 in /Users/encore/anaconda3/lib/python3.10/site-packages (from matplotlib) (9.5.0)\n",
      "Requirement already satisfied: kiwisolver>=1.0.1 in /Users/encore/anaconda3/lib/python3.10/site-packages (from matplotlib) (1.4.4)\n",
      "Requirement already satisfied: python-dateutil>=2.7 in /Users/encore/anaconda3/lib/python3.10/site-packages (from matplotlib) (2.8.2)\n",
      "Requirement already satisfied: six>=1.5 in /Users/encore/anaconda3/lib/python3.10/site-packages (from python-dateutil>=2.7->matplotlib) (1.16.0)\n"
     ]
    }
   ],
   "source": [
    "## https://github.com/Micro-sheep/efinance\n",
    "!pip install efinance\n",
    "!pip install pandas\n",
    "!pip install matplotlib"
   ]
  },
  {
   "cell_type": "code",
   "execution_count": 15,
   "id": "bbb96a13",
   "metadata": {},
   "outputs": [],
   "source": [
    "# !pip freeze > requirements.txt"
   ]
  },
  {
   "cell_type": "code",
   "execution_count": 2,
   "id": "c981457f",
   "metadata": {},
   "outputs": [],
   "source": [
    "import efinance as ef\n",
    "import pandas as pd\n",
    "\n",
    "import matplotlib.pyplot as plt\n",
    "import matplotlib.font_manager as fm\n",
    "from matplotlib.font_manager import findSystemFonts\n",
    "\n",
    "# 打印系统中已安装的字体文件路径\n",
    "font_paths = findSystemFonts()\n",
    "# print(fm.findSystemFonts(fontpaths=None, fontext='ttf'))\n",
    "\n",
    "MacKTGB2312_font_path = '/Users/encore/Library/Fonts/MacKTGB2312.ttf'  # 替换为实际的字体文件路径\n",
    "chinese_font = fm.FontProperties(fname=MacKTGB2312_font_path)\n",
    "\n",
    "# plt.rcParams['font.sans-serif'] = [chinese_font_path]\n",
    "# plt.rcParams['font.sans-serif'] = ['Microsoft YaHei']  # 设置默认字体为中文宋体或其他中文字体\n",
    "plt.rcParams['axes.unicode_minus'] = False  # 解决负号显示问题"
   ]
  },
  {
   "cell_type": "code",
   "execution_count": 3,
   "id": "ac5b09b2",
   "metadata": {},
   "outputs": [
    {
     "name": "stdout",
     "output_type": "stream",
     "text": [
      "/Users/encore/.matplotlib\n"
     ]
    }
   ],
   "source": [
    "import matplotlib as mpl\n",
    "print(mpl.get_cachedir())"
   ]
  },
  {
   "cell_type": "code",
   "execution_count": 4,
   "id": "47fa258c",
   "metadata": {},
   "outputs": [],
   "source": [
    "stock_code = '600519'\n",
    "\n",
    "data = ef.stock.get_quote_history(stock_code)"
   ]
  },
  {
   "cell_type": "code",
   "execution_count": 5,
   "id": "d560db28",
   "metadata": {},
   "outputs": [],
   "source": [
    "df = pd.DataFrame(data)"
   ]
  },
  {
   "cell_type": "code",
   "execution_count": 6,
   "id": "ad59555c",
   "metadata": {},
   "outputs": [
    {
     "data": {
      "text/html": [
       "<div>\n",
       "<style scoped>\n",
       "    .dataframe tbody tr th:only-of-type {\n",
       "        vertical-align: middle;\n",
       "    }\n",
       "\n",
       "    .dataframe tbody tr th {\n",
       "        vertical-align: top;\n",
       "    }\n",
       "\n",
       "    .dataframe thead th {\n",
       "        text-align: right;\n",
       "    }\n",
       "</style>\n",
       "<table border=\"1\" class=\"dataframe\">\n",
       "  <thead>\n",
       "    <tr style=\"text-align: right;\">\n",
       "      <th></th>\n",
       "      <th>股票名称</th>\n",
       "      <th>股票代码</th>\n",
       "      <th>日期</th>\n",
       "      <th>开盘</th>\n",
       "      <th>收盘</th>\n",
       "      <th>最高</th>\n",
       "      <th>最低</th>\n",
       "      <th>成交量</th>\n",
       "      <th>成交额</th>\n",
       "      <th>振幅</th>\n",
       "      <th>涨跌幅</th>\n",
       "      <th>涨跌额</th>\n",
       "      <th>换手率</th>\n",
       "    </tr>\n",
       "  </thead>\n",
       "  <tbody>\n",
       "    <tr>\n",
       "      <th>0</th>\n",
       "      <td>贵州茅台</td>\n",
       "      <td>600519</td>\n",
       "      <td>2001-08-27</td>\n",
       "      <td>-159.23</td>\n",
       "      <td>-159.02</td>\n",
       "      <td>-158.58</td>\n",
       "      <td>-159.56</td>\n",
       "      <td>406318</td>\n",
       "      <td>1.410347e+09</td>\n",
       "      <td>-0.61</td>\n",
       "      <td>0.52</td>\n",
       "      <td>0.83</td>\n",
       "      <td>56.83</td>\n",
       "    </tr>\n",
       "    <tr>\n",
       "      <th>1</th>\n",
       "      <td>贵州茅台</td>\n",
       "      <td>600519</td>\n",
       "      <td>2001-08-28</td>\n",
       "      <td>-159.14</td>\n",
       "      <td>-158.76</td>\n",
       "      <td>-158.74</td>\n",
       "      <td>-159.21</td>\n",
       "      <td>129647</td>\n",
       "      <td>4.634630e+08</td>\n",
       "      <td>-0.30</td>\n",
       "      <td>0.16</td>\n",
       "      <td>0.26</td>\n",
       "      <td>18.13</td>\n",
       "    </tr>\n",
       "    <tr>\n",
       "      <th>2</th>\n",
       "      <td>贵州茅台</td>\n",
       "      <td>600519</td>\n",
       "      <td>2001-08-29</td>\n",
       "      <td>-158.74</td>\n",
       "      <td>-158.86</td>\n",
       "      <td>-158.74</td>\n",
       "      <td>-158.91</td>\n",
       "      <td>53252</td>\n",
       "      <td>1.946890e+08</td>\n",
       "      <td>-0.11</td>\n",
       "      <td>-0.06</td>\n",
       "      <td>-0.10</td>\n",
       "      <td>7.45</td>\n",
       "    </tr>\n",
       "    <tr>\n",
       "      <th>3</th>\n",
       "      <td>贵州茅台</td>\n",
       "      <td>600519</td>\n",
       "      <td>2001-08-30</td>\n",
       "      <td>-158.88</td>\n",
       "      <td>-158.72</td>\n",
       "      <td>-158.63</td>\n",
       "      <td>-158.93</td>\n",
       "      <td>48013</td>\n",
       "      <td>1.775580e+08</td>\n",
       "      <td>-0.19</td>\n",
       "      <td>0.09</td>\n",
       "      <td>0.14</td>\n",
       "      <td>6.72</td>\n",
       "    </tr>\n",
       "    <tr>\n",
       "      <th>4</th>\n",
       "      <td>贵州茅台</td>\n",
       "      <td>600519</td>\n",
       "      <td>2001-08-31</td>\n",
       "      <td>-158.71</td>\n",
       "      <td>-158.73</td>\n",
       "      <td>-158.61</td>\n",
       "      <td>-158.78</td>\n",
       "      <td>23231</td>\n",
       "      <td>8.623100e+07</td>\n",
       "      <td>-0.11</td>\n",
       "      <td>-0.01</td>\n",
       "      <td>-0.01</td>\n",
       "      <td>3.25</td>\n",
       "    </tr>\n",
       "    <tr>\n",
       "      <th>...</th>\n",
       "      <td>...</td>\n",
       "      <td>...</td>\n",
       "      <td>...</td>\n",
       "      <td>...</td>\n",
       "      <td>...</td>\n",
       "      <td>...</td>\n",
       "      <td>...</td>\n",
       "      <td>...</td>\n",
       "      <td>...</td>\n",
       "      <td>...</td>\n",
       "      <td>...</td>\n",
       "      <td>...</td>\n",
       "      <td>...</td>\n",
       "    </tr>\n",
       "    <tr>\n",
       "      <th>5284</th>\n",
       "      <td>贵州茅台</td>\n",
       "      <td>600519</td>\n",
       "      <td>2023-09-22</td>\n",
       "      <td>1805.63</td>\n",
       "      <td>1849.00</td>\n",
       "      <td>1849.96</td>\n",
       "      <td>1792.41</td>\n",
       "      <td>34390</td>\n",
       "      <td>6.287833e+09</td>\n",
       "      <td>3.20</td>\n",
       "      <td>2.81</td>\n",
       "      <td>50.61</td>\n",
       "      <td>0.27</td>\n",
       "    </tr>\n",
       "    <tr>\n",
       "      <th>5285</th>\n",
       "      <td>贵州茅台</td>\n",
       "      <td>600519</td>\n",
       "      <td>2023-09-25</td>\n",
       "      <td>1847.50</td>\n",
       "      <td>1832.38</td>\n",
       "      <td>1848.00</td>\n",
       "      <td>1826.59</td>\n",
       "      <td>13979</td>\n",
       "      <td>2.565774e+09</td>\n",
       "      <td>1.16</td>\n",
       "      <td>-0.90</td>\n",
       "      <td>-16.62</td>\n",
       "      <td>0.11</td>\n",
       "    </tr>\n",
       "    <tr>\n",
       "      <th>5286</th>\n",
       "      <td>贵州茅台</td>\n",
       "      <td>600519</td>\n",
       "      <td>2023-09-26</td>\n",
       "      <td>1828.00</td>\n",
       "      <td>1816.00</td>\n",
       "      <td>1834.88</td>\n",
       "      <td>1813.10</td>\n",
       "      <td>15762</td>\n",
       "      <td>2.870852e+09</td>\n",
       "      <td>1.19</td>\n",
       "      <td>-0.89</td>\n",
       "      <td>-16.38</td>\n",
       "      <td>0.13</td>\n",
       "    </tr>\n",
       "    <tr>\n",
       "      <th>5287</th>\n",
       "      <td>贵州茅台</td>\n",
       "      <td>600519</td>\n",
       "      <td>2023-09-27</td>\n",
       "      <td>1815.00</td>\n",
       "      <td>1814.00</td>\n",
       "      <td>1833.50</td>\n",
       "      <td>1802.80</td>\n",
       "      <td>20880</td>\n",
       "      <td>3.791876e+09</td>\n",
       "      <td>1.69</td>\n",
       "      <td>-0.11</td>\n",
       "      <td>-2.00</td>\n",
       "      <td>0.17</td>\n",
       "    </tr>\n",
       "    <tr>\n",
       "      <th>5288</th>\n",
       "      <td>贵州茅台</td>\n",
       "      <td>600519</td>\n",
       "      <td>2023-09-28</td>\n",
       "      <td>1824.98</td>\n",
       "      <td>1798.55</td>\n",
       "      <td>1824.98</td>\n",
       "      <td>1797.80</td>\n",
       "      <td>20538</td>\n",
       "      <td>3.704813e+09</td>\n",
       "      <td>1.50</td>\n",
       "      <td>-0.85</td>\n",
       "      <td>-15.45</td>\n",
       "      <td>0.16</td>\n",
       "    </tr>\n",
       "  </tbody>\n",
       "</table>\n",
       "<p>5289 rows × 13 columns</p>\n",
       "</div>"
      ],
      "text/plain": [
       "      股票名称    股票代码          日期       开盘       收盘       最高       最低     成交量  \\\n",
       "0     贵州茅台  600519  2001-08-27  -159.23  -159.02  -158.58  -159.56  406318   \n",
       "1     贵州茅台  600519  2001-08-28  -159.14  -158.76  -158.74  -159.21  129647   \n",
       "2     贵州茅台  600519  2001-08-29  -158.74  -158.86  -158.74  -158.91   53252   \n",
       "3     贵州茅台  600519  2001-08-30  -158.88  -158.72  -158.63  -158.93   48013   \n",
       "4     贵州茅台  600519  2001-08-31  -158.71  -158.73  -158.61  -158.78   23231   \n",
       "...    ...     ...         ...      ...      ...      ...      ...     ...   \n",
       "5284  贵州茅台  600519  2023-09-22  1805.63  1849.00  1849.96  1792.41   34390   \n",
       "5285  贵州茅台  600519  2023-09-25  1847.50  1832.38  1848.00  1826.59   13979   \n",
       "5286  贵州茅台  600519  2023-09-26  1828.00  1816.00  1834.88  1813.10   15762   \n",
       "5287  贵州茅台  600519  2023-09-27  1815.00  1814.00  1833.50  1802.80   20880   \n",
       "5288  贵州茅台  600519  2023-09-28  1824.98  1798.55  1824.98  1797.80   20538   \n",
       "\n",
       "               成交额    振幅   涨跌幅    涨跌额    换手率  \n",
       "0     1.410347e+09 -0.61  0.52   0.83  56.83  \n",
       "1     4.634630e+08 -0.30  0.16   0.26  18.13  \n",
       "2     1.946890e+08 -0.11 -0.06  -0.10   7.45  \n",
       "3     1.775580e+08 -0.19  0.09   0.14   6.72  \n",
       "4     8.623100e+07 -0.11 -0.01  -0.01   3.25  \n",
       "...            ...   ...   ...    ...    ...  \n",
       "5284  6.287833e+09  3.20  2.81  50.61   0.27  \n",
       "5285  2.565774e+09  1.16 -0.90 -16.62   0.11  \n",
       "5286  2.870852e+09  1.19 -0.89 -16.38   0.13  \n",
       "5287  3.791876e+09  1.69 -0.11  -2.00   0.17  \n",
       "5288  3.704813e+09  1.50 -0.85 -15.45   0.16  \n",
       "\n",
       "[5289 rows x 13 columns]"
      ]
     },
     "execution_count": 6,
     "metadata": {},
     "output_type": "execute_result"
    }
   ],
   "source": [
    "df"
   ]
  },
  {
   "cell_type": "code",
   "execution_count": 7,
   "id": "fb89746d",
   "metadata": {},
   "outputs": [
    {
     "data": {
      "text/plain": [
       "Index(['股票名称', '股票代码', '日期', '开盘', '收盘', '最高', '最低', '成交量', '成交额', '振幅', '涨跌幅',\n",
       "       '涨跌额', '换手率'],\n",
       "      dtype='object')"
      ]
     },
     "execution_count": 7,
     "metadata": {},
     "output_type": "execute_result"
    }
   ],
   "source": [
    "df.columns"
   ]
  },
  {
   "cell_type": "code",
   "execution_count": 8,
   "id": "4cf57607",
   "metadata": {},
   "outputs": [
    {
     "data": {
      "text/plain": [
       "[3887.5, -3500.0]"
      ]
     },
     "execution_count": 8,
     "metadata": {},
     "output_type": "execute_result"
    }
   ],
   "source": [
    "[df['涨跌幅'].max(), df['涨跌幅'].min()]"
   ]
  },
  {
   "cell_type": "code",
   "execution_count": 9,
   "id": "936a2369",
   "metadata": {},
   "outputs": [
    {
     "data": {
      "text/plain": [
       "[2539.09, -160.88]"
      ]
     },
     "execution_count": 9,
     "metadata": {},
     "output_type": "execute_result"
    }
   ],
   "source": [
    "[df['最高'].max(), df['最高'].min()]"
   ]
  },
  {
   "cell_type": "code",
   "execution_count": 10,
   "id": "6ad6d96a",
   "metadata": {},
   "outputs": [
    {
     "data": {
      "text/plain": [
       "[406318, 238]"
      ]
     },
     "execution_count": 10,
     "metadata": {},
     "output_type": "execute_result"
    }
   ],
   "source": [
    "[df['成交量'].max(), df['成交量'].min()]"
   ]
  },
  {
   "cell_type": "code",
   "execution_count": 11,
   "id": "b0ff1e81",
   "metadata": {},
   "outputs": [],
   "source": [
    "latest_quote = ef.stock.get_latest_quote(stock_code)"
   ]
  },
  {
   "cell_type": "code",
   "execution_count": 12,
   "id": "0009c4a7",
   "metadata": {},
   "outputs": [
    {
     "data": {
      "text/html": [
       "<div>\n",
       "<style scoped>\n",
       "    .dataframe tbody tr th:only-of-type {\n",
       "        vertical-align: middle;\n",
       "    }\n",
       "\n",
       "    .dataframe tbody tr th {\n",
       "        vertical-align: top;\n",
       "    }\n",
       "\n",
       "    .dataframe thead th {\n",
       "        text-align: right;\n",
       "    }\n",
       "</style>\n",
       "<table border=\"1\" class=\"dataframe\">\n",
       "  <thead>\n",
       "    <tr style=\"text-align: right;\">\n",
       "      <th></th>\n",
       "      <th>代码</th>\n",
       "      <th>名称</th>\n",
       "      <th>涨跌幅</th>\n",
       "      <th>最新价</th>\n",
       "      <th>最高</th>\n",
       "      <th>最低</th>\n",
       "      <th>今开</th>\n",
       "      <th>涨跌额</th>\n",
       "      <th>换手率</th>\n",
       "      <th>量比</th>\n",
       "      <th>动态市盈率</th>\n",
       "      <th>成交量</th>\n",
       "      <th>成交额</th>\n",
       "      <th>昨日收盘</th>\n",
       "      <th>总市值</th>\n",
       "      <th>流通市值</th>\n",
       "      <th>市场类型</th>\n",
       "      <th>行情ID</th>\n",
       "      <th>更新时间</th>\n",
       "      <th>最新交易日</th>\n",
       "    </tr>\n",
       "  </thead>\n",
       "  <tbody>\n",
       "    <tr>\n",
       "      <th>0</th>\n",
       "      <td>600519</td>\n",
       "      <td>贵州茅台</td>\n",
       "      <td>-0.85</td>\n",
       "      <td>1798.55</td>\n",
       "      <td>1824.98</td>\n",
       "      <td>1797.8</td>\n",
       "      <td>1824.98</td>\n",
       "      <td>-15.45</td>\n",
       "      <td>0.16</td>\n",
       "      <td>0.98</td>\n",
       "      <td>31.4</td>\n",
       "      <td>20538</td>\n",
       "      <td>3.704813e+09</td>\n",
       "      <td>1814.0</td>\n",
       "      <td>2259334553190</td>\n",
       "      <td>2259334553190</td>\n",
       "      <td>沪A</td>\n",
       "      <td>1.600519</td>\n",
       "      <td>2023-09-28 15:59:37</td>\n",
       "      <td>2023-09-28</td>\n",
       "    </tr>\n",
       "  </tbody>\n",
       "</table>\n",
       "</div>"
      ],
      "text/plain": [
       "       代码    名称   涨跌幅      最新价       最高      最低       今开    涨跌额   换手率    量比  \\\n",
       "0  600519  贵州茅台 -0.85  1798.55  1824.98  1797.8  1824.98 -15.45  0.16  0.98   \n",
       "\n",
       "   动态市盈率    成交量           成交额    昨日收盘            总市值           流通市值 市场类型  \\\n",
       "0   31.4  20538  3.704813e+09  1814.0  2259334553190  2259334553190   沪A   \n",
       "\n",
       "       行情ID                 更新时间       最新交易日  \n",
       "0  1.600519  2023-09-28 15:59:37  2023-09-28  "
      ]
     },
     "execution_count": 12,
     "metadata": {},
     "output_type": "execute_result"
    }
   ],
   "source": [
    "latest_quote"
   ]
  },
  {
   "cell_type": "code",
   "execution_count": 13,
   "id": "b831ac23",
   "metadata": {},
   "outputs": [
    {
     "name": "stderr",
     "output_type": "stream",
     "text": [
      "/Users/encore/anaconda3/lib/python3.10/site-packages/IPython/core/pylabtools.py:152: UserWarning: Glyph 25104 (\\N{CJK UNIFIED IDEOGRAPH-6210}) missing from current font.\n",
      "  fig.canvas.print_figure(bytes_io, **kw)\n",
      "/Users/encore/anaconda3/lib/python3.10/site-packages/IPython/core/pylabtools.py:152: UserWarning: Glyph 20132 (\\N{CJK UNIFIED IDEOGRAPH-4EA4}) missing from current font.\n",
      "  fig.canvas.print_figure(bytes_io, **kw)\n",
      "/Users/encore/anaconda3/lib/python3.10/site-packages/IPython/core/pylabtools.py:152: UserWarning: Glyph 37327 (\\N{CJK UNIFIED IDEOGRAPH-91CF}) missing from current font.\n",
      "  fig.canvas.print_figure(bytes_io, **kw)\n"
     ]
    },
    {
     "data": {
      "image/png": "[encoded data removed]",
      "text/plain": [
       "<Figure size 640x480 with 1 Axes>"
      ]
     },
     "metadata": {},
     "output_type": "display_data"
    }
   ],
   "source": [
    "df.head(4)[['日期', '成交量']].plot(kind='bar', x='日期', y='成交量')\n",
    "plt.title('成绩', fontproperties=chinese_font)\n",
    "plt.xlabel('日期', fontproperties=chinese_font)\n",
    "plt.ylabel('成交量', fontproperties=chinese_font)\n",
    "plt.show()"
   ]
  },
  {
   "cell_type": "code",
   "execution_count": 14,
   "id": "89f5f97f",
   "metadata": {},
   "outputs": [
    {
     "data": {
      "text/html": [
       "<div>\n",
       "<style scoped>\n",
       "    .dataframe tbody tr th:only-of-type {\n",
       "        vertical-align: middle;\n",
       "    }\n",
       "\n",
       "    .dataframe tbody tr th {\n",
       "        vertical-align: top;\n",
       "    }\n",
       "\n",
       "    .dataframe thead th {\n",
       "        text-align: right;\n",
       "    }\n",
       "</style>\n",
       "<table border=\"1\" class=\"dataframe\">\n",
       "  <thead>\n",
       "    <tr style=\"text-align: right;\">\n",
       "      <th></th>\n",
       "      <th>股票名称</th>\n",
       "      <th>股票代码</th>\n",
       "      <th>日期</th>\n",
       "      <th>开盘</th>\n",
       "      <th>收盘</th>\n",
       "      <th>最高</th>\n",
       "      <th>最低</th>\n",
       "      <th>成交量</th>\n",
       "      <th>成交额</th>\n",
       "      <th>振幅</th>\n",
       "      <th>涨跌幅</th>\n",
       "      <th>涨跌额</th>\n",
       "      <th>换手率</th>\n",
       "    </tr>\n",
       "  </thead>\n",
       "  <tbody>\n",
       "    <tr>\n",
       "      <th>0</th>\n",
       "      <td>贵州茅台</td>\n",
       "      <td>600519</td>\n",
       "      <td>2001-08-27</td>\n",
       "      <td>-159.23</td>\n",
       "      <td>-159.02</td>\n",
       "      <td>-158.58</td>\n",
       "      <td>-159.56</td>\n",
       "      <td>406318</td>\n",
       "      <td>1.410347e+09</td>\n",
       "      <td>-0.61</td>\n",
       "      <td>0.52</td>\n",
       "      <td>0.83</td>\n",
       "      <td>56.83</td>\n",
       "    </tr>\n",
       "  </tbody>\n",
       "</table>\n",
       "</div>"
      ],
      "text/plain": [
       "   股票名称    股票代码          日期      开盘      收盘      最高      最低     成交量  \\\n",
       "0  贵州茅台  600519  2001-08-27 -159.23 -159.02 -158.58 -159.56  406318   \n",
       "\n",
       "            成交额    振幅   涨跌幅   涨跌额    换手率  \n",
       "0  1.410347e+09 -0.61  0.52  0.83  56.83  "
      ]
     },
     "execution_count": 14,
     "metadata": {},
     "output_type": "execute_result"
    }
   ],
   "source": [
    "df[df.日期 == '2001-08-27']"
   ]
  },
  {
   "cell_type": "code",
   "execution_count": null,
   "id": "2da5eb25",
   "metadata": {},
   "outputs": [],
   "source": []
  }
 ],
 "metadata": {
  "kernelspec": {
   "display_name": "Python 3 (ipykernel)",
   "language": "python",
   "name": "python3"
  },
  "language_info": {
   "codemirror_mode": {
    "name": "ipython",
    "version": 3
   },
   "file_extension": ".py",
   "mimetype": "text/x-python",
   "name": "python",
   "nbconvert_exporter": "python",
   "pygments_lexer": "ipython3",
   "version": "3.10.9"
  }
 },
 "nbformat": 4,
 "nbformat_minor": 5
}
